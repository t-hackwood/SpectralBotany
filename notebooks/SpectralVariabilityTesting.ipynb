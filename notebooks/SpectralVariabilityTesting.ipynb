{
 "cells": [
  {
   "cell_type": "code",
   "execution_count": 1,
   "metadata": {},
   "outputs": [],
   "source": [
    "import os\n",
    "from osgeo import gdal\n",
    "import numpy as np\n",
    "import rasterio\n",
    "from scipy.spatial import ConvexHull"
   ]
  },
  {
   "cell_type": "code",
   "execution_count": 2,
   "metadata": {},
   "outputs": [],
   "source": [
    "import rasterio\n",
    "from rasterio.windows import Window\n",
    "from rasterio.transform import rowcol\n",
    "\n",
    "# AOI centroid coordinates\n",
    "AOICentroid = (2042110.6, -3069083.8)\n",
    "\n",
    "# Open the raster file\n",
    "with rasterio.open(\"/home/tim/dentata/Sentinel2_seasonal/cvmsre_qld_m202403202405_abma2.vrt\") as src:\n",
    "    # Get the row and column of the centroid\n",
    "    row, col = rowcol(src.transform, AOICentroid[0], AOICentroid[1])\n",
    "    \n",
    "    # Define the window size (100x100 pixels)\n",
    "    window_size = 512\n",
    "    \n",
    "    # Calculate the window around the centroid\n",
    "    window = Window(col - window_size // 2, row - window_size // 2, window_size, window_size)\n",
    "    \n",
    "    # Read the data within the window\n",
    "    data = src.read(window=window)"
   ]
  },
  {
   "cell_type": "code",
   "execution_count": null,
   "metadata": {},
   "outputs": [],
   "source": [
    "import numpy as np\n",
    "from scipy.ndimage import convolve\n",
    "from scipy.spatial import ConvexHull\n",
    "\n",
    "# Define a 6x3x3 convolution kernel\n",
    "kernel = np.ones((6, 3, 3))\n",
    "\n",
    "# Initialize a list to store the convex hull volumes\n",
    "convex_hullsVol = []\n",
    "\n",
    "# Iterate over the 3D data to extract each 6x3x3 subset\n",
    "for i in range(data.shape[1] - 2):\n",
    "    for j in range(data.shape[2] - 2):\n",
    "        subset = data[:, i:i+3, j:j+3]\n",
    "        \n",
    "        # Convolve the subset with the kernel\n",
    "        convolved = convolve(subset, kernel, mode='constant', cval=0.0)\n",
    "        \n",
    "        # Calculate the convex hull for the convolved subset\n",
    "        mask = convolved > 0\n",
    "        points = np.argwhere(mask)\n",
    "        if points.size > 0:\n",
    "            print(points.shape)\n",
    "            hull = ConvexHull(points)\n",
    "            convex_hullsVol.append(hull.volume)\n",
    "        else:\n",
    "            convex_hullsVol.append(0)\n",
    "\n",
    "# Make the convex hull volumes into a 2D array\n",
    "convex_hullsVol = np.array(convex_hullsVol).reshape(data.shape[1] - 2, data.shape[2] - 2)\n",
    "\n",
    "print(convex_hullsVol)"
   ]
  },
  {
   "cell_type": "code",
   "execution_count": null,
   "metadata": {},
   "outputs": [],
   "source": [
    "data.shape"
   ]
  },
  {
   "cell_type": "code",
   "execution_count": null,
   "metadata": {},
   "outputs": [],
   "source": [
    "# Plot the convex hull volumes\n",
    "import matplotlib.pyplot as plt\n",
    "plt.imshow(convex_hullsVol, cmap='viridis')"
   ]
  },
  {
   "cell_type": "code",
   "execution_count": 4,
   "metadata": {},
   "outputs": [],
   "source": [
    "hull = ConvexHull(data)"
   ]
  },
  {
   "cell_type": "code",
   "execution_count": null,
   "metadata": {},
   "outputs": [],
   "source": [
    "hull.volume"
   ]
  },
  {
   "cell_type": "markdown",
   "metadata": {},
   "source": [
    "## Try a rios function using the segments to get the convex hull"
   ]
  },
  {
   "cell_type": "code",
   "execution_count": 3,
   "metadata": {},
   "outputs": [],
   "source": [
    "def _getSegmentHull(info, inputs, outputs, otherargs):\n",
    "    \n",
    "    segments = inputs.segs[0]\n",
    "    pca = inputs.PCA\n",
    "    \n",
    "    # Get unique segment IDs\n",
    "    segIDs = np.unique(segments)\n",
    "            \n",
    "    # Get the PCA values for each segment\n",
    "    for segID in segIDs:\n",
    "        if segID > 0:\n",
    "            mask = segments == segID\n",
    "            pca_values = pca[:,mask]\n",
    "            pca_values = pca_values.T\n",
    "            # Calculate the convex hull volume\n",
    "            try:\n",
    "                hull = ConvexHull(pca_values)\n",
    "                hullVol = hull.volume\n",
    "                \n",
    "                otherargs.hullVols[segID] = hullVol\n",
    "            except Exception as e:\n",
    "                print(e)\n",
    "                otherargs.hullVols[segID] = 9999\n",
    "            \n",
    "        else:\n",
    "            otherargs.hullVols[segID] = 9999"
   ]
  },
  {
   "cell_type": "code",
   "execution_count": 23,
   "metadata": {},
   "outputs": [
    {
     "name": "stdout",
     "output_type": "stream",
     "text": [
      "[[-1.0450606  -1.01005717  0.30327301]\n",
      " [ 0.41802424 -0.2603417   1.48742893]\n",
      " [ 1.43968797  1.66112586 -0.68055577]\n",
      " [-0.8126516  -0.390727   -1.11014617]]\n",
      "(4, 3)\n",
      "0.1806144834228752\n"
     ]
    }
   ],
   "source": [
    "from sklearn.preprocessing import MinMaxScaler, StandardScaler\n",
    "\n",
    "nbar=np.array([[16111,44864,33636], [17049,45301,34168],[17704,46421,33194],[16260,45225,33001]])\n",
    "\n",
    "# Standardize the data\n",
    "scaler = StandardScaler()\n",
    "nbar = scaler.fit_transform(nbar)\n",
    "print(nbar)\n",
    "\n",
    "print(nbar.shape)\n",
    "\n",
    "hull = ConvexHull(nbar) \n",
    "hullvol = hull.volume\n",
    "print(hullvol)"
   ]
  },
  {
   "cell_type": "code",
   "execution_count": 2,
   "metadata": {},
   "outputs": [
    {
     "name": "stdout",
     "output_type": "stream",
     "text": [
      "1\n",
      "1\n",
      "1\n",
      "1\n",
      "1\n",
      "1\n",
      "1\n",
      "1\n",
      "1\n",
      "1\n",
      "1\n",
      "1\n",
      "1\n",
      "1\n",
      "1\n",
      "1\n",
      "1\n",
      "1\n",
      "1\n",
      "1\n",
      "1\n",
      "1\n",
      "1\n",
      "1\n",
      "1\n",
      "1\n",
      "1\n",
      "1\n",
      "1\n",
      "1\n",
      "1\n",
      "1\n",
      "1\n",
      "1\n",
      "1\n",
      "1\n",
      "1\n",
      "1\n",
      "2424\n"
     ]
    },
    {
     "ename": "KeyboardInterrupt",
     "evalue": "",
     "output_type": "error",
     "traceback": [
      "\u001b[0;31m---------------------------------------------------------------------------\u001b[0m",
      "\u001b[0;31mKeyboardInterrupt\u001b[0m                         Traceback (most recent call last)",
      "Cell \u001b[0;32mIn[2], line 104\u001b[0m\n\u001b[1;32m    100\u001b[0m     applier\u001b[38;5;241m.\u001b[39mapply(_getSegmentHull, infiles, outfiles, otherargs, controls\u001b[38;5;241m=\u001b[39mcontrols)\n\u001b[1;32m    102\u001b[0m     \u001b[38;5;28;01mreturn\u001b[39;00m otherargs\u001b[38;5;241m.\u001b[39mhullVols\n\u001b[0;32m--> 104\u001b[0m HullVols \u001b[38;5;241m=\u001b[39m \u001b[43mgetSegmentHull\u001b[49m\u001b[43m(\u001b[49m\u001b[43m)\u001b[49m   \n",
      "Cell \u001b[0;32mIn[2], line 100\u001b[0m, in \u001b[0;36mgetSegmentHull\u001b[0;34m()\u001b[0m\n\u001b[1;32m     89\u001b[0m controls\u001b[38;5;241m.\u001b[39msetOverlap \u001b[38;5;241m=\u001b[39m \u001b[38;5;241m512\u001b[39m\n\u001b[1;32m     91\u001b[0m \u001b[38;5;66;03m# # Set concurrency depending on system\u001b[39;00m\n\u001b[1;32m     92\u001b[0m \u001b[38;5;66;03m# conc = applier.ConcurrencyStyle(numReadWorkers=3,\u001b[39;00m\n\u001b[1;32m     93\u001b[0m \u001b[38;5;66;03m#                                 numComputeWorkers=2,\u001b[39;00m\n\u001b[0;32m   (...)\u001b[0m\n\u001b[1;32m     98\u001b[0m \n\u001b[1;32m     99\u001b[0m \u001b[38;5;66;03m# Run the function\u001b[39;00m\n\u001b[0;32m--> 100\u001b[0m \u001b[43mapplier\u001b[49m\u001b[38;5;241;43m.\u001b[39;49m\u001b[43mapply\u001b[49m\u001b[43m(\u001b[49m\u001b[43m_getSegmentHull\u001b[49m\u001b[43m,\u001b[49m\u001b[43m \u001b[49m\u001b[43minfiles\u001b[49m\u001b[43m,\u001b[49m\u001b[43m \u001b[49m\u001b[43moutfiles\u001b[49m\u001b[43m,\u001b[49m\u001b[43m \u001b[49m\u001b[43motherargs\u001b[49m\u001b[43m,\u001b[49m\u001b[43m \u001b[49m\u001b[43mcontrols\u001b[49m\u001b[38;5;241;43m=\u001b[39;49m\u001b[43mcontrols\u001b[49m\u001b[43m)\u001b[49m\n\u001b[1;32m    102\u001b[0m \u001b[38;5;28;01mreturn\u001b[39;00m otherargs\u001b[38;5;241m.\u001b[39mhullVols\n",
      "File \u001b[0;32m~/miniforge3/envs/devENV/lib/python3.12/site-packages/rios/applier.py:774\u001b[0m, in \u001b[0;36mapply\u001b[0;34m(userFunction, infiles, outfiles, otherArgs, controls)\u001b[0m\n\u001b[1;32m    772\u001b[0m concurrency \u001b[38;5;241m=\u001b[39m controls\u001b[38;5;241m.\u001b[39mconcurrency\n\u001b[1;32m    773\u001b[0m \u001b[38;5;28;01mif\u001b[39;00m (concurrency\u001b[38;5;241m.\u001b[39mcomputeWorkerKind \u001b[38;5;241m==\u001b[39m CW_NONE):\n\u001b[0;32m--> 774\u001b[0m     rtn \u001b[38;5;241m=\u001b[39m \u001b[43mapply_singleCompute\u001b[49m\u001b[43m(\u001b[49m\u001b[43muserFunction\u001b[49m\u001b[43m,\u001b[49m\u001b[43m \u001b[49m\u001b[43minfiles\u001b[49m\u001b[43m,\u001b[49m\u001b[43m \u001b[49m\u001b[43moutfiles\u001b[49m\u001b[43m,\u001b[49m\n\u001b[1;32m    775\u001b[0m \u001b[43m        \u001b[49m\u001b[43motherArgs\u001b[49m\u001b[43m,\u001b[49m\u001b[43m \u001b[49m\u001b[43mcontrols\u001b[49m\u001b[43m,\u001b[49m\u001b[43m \u001b[49m\u001b[43mallInfo\u001b[49m\u001b[43m,\u001b[49m\u001b[43m \u001b[49m\u001b[43mworkinggrid\u001b[49m\u001b[43m,\u001b[49m\u001b[43m \u001b[49m\u001b[43mblockList\u001b[49m\u001b[43m,\u001b[49m\n\u001b[1;32m    776\u001b[0m \u001b[43m        \u001b[49m\u001b[38;5;28;43;01mNone\u001b[39;49;00m\u001b[43m,\u001b[49m\u001b[43m \u001b[49m\u001b[38;5;28;43;01mNone\u001b[39;49;00m\u001b[43m,\u001b[49m\u001b[43m \u001b[49m\u001b[38;5;28;43;01mNone\u001b[39;49;00m\u001b[43m,\u001b[49m\u001b[43m \u001b[49m\u001b[38;5;28;43;01mNone\u001b[39;49;00m\u001b[43m)\u001b[49m\n\u001b[1;32m    777\u001b[0m \u001b[38;5;28;01melse\u001b[39;00m:\n\u001b[1;32m    778\u001b[0m     rtn \u001b[38;5;241m=\u001b[39m apply_multipleCompute(userFunction, infiles, outfiles,\n\u001b[1;32m    779\u001b[0m         otherArgs, controls, allInfo, workinggrid, blockList)\n",
      "File \u001b[0;32m~/miniforge3/envs/devENV/lib/python3.12/site-packages/rios/applier.py:865\u001b[0m, in \u001b[0;36mapply_singleCompute\u001b[0;34m(userFunction, infiles, outfiles, otherArgs, controls, allInfo, workinggrid, blockList, outBlockBuffer, inBlockBuffer, workerID, forceExit)\u001b[0m\n\u001b[1;32m    862\u001b[0m     userArgs \u001b[38;5;241m+\u001b[39m\u001b[38;5;241m=\u001b[39m (otherArgs,)\n\u001b[1;32m    864\u001b[0m \u001b[38;5;28;01mwith\u001b[39;00m timings\u001b[38;5;241m.\u001b[39minterval(\u001b[38;5;124m'\u001b[39m\u001b[38;5;124muserfunction\u001b[39m\u001b[38;5;124m'\u001b[39m):\n\u001b[0;32m--> 865\u001b[0m     \u001b[43muserFunction\u001b[49m\u001b[43m(\u001b[49m\u001b[38;5;241;43m*\u001b[39;49m\u001b[43muserArgs\u001b[49m\u001b[43m)\u001b[49m\n\u001b[1;32m    867\u001b[0m \u001b[38;5;28;01mif\u001b[39;00m outBlockBuffer \u001b[38;5;129;01mis\u001b[39;00m \u001b[38;5;28;01mNone\u001b[39;00m:\n\u001b[1;32m    868\u001b[0m     \u001b[38;5;28;01mwith\u001b[39;00m timings\u001b[38;5;241m.\u001b[39minterval(\u001b[38;5;124m'\u001b[39m\u001b[38;5;124mwriting\u001b[39m\u001b[38;5;124m'\u001b[39m):\n",
      "Cell \u001b[0;32mIn[2], line 25\u001b[0m, in \u001b[0;36m_getSegmentHull\u001b[0;34m(info, inputs, outputs, otherargs)\u001b[0m\n\u001b[1;32m     21\u001b[0m pca_length \u001b[38;5;241m=\u001b[39m \u001b[38;5;28mlen\u001b[39m(pca_values)\n\u001b[1;32m     23\u001b[0m \u001b[38;5;28;01mif\u001b[39;00m pca_length \u001b[38;5;241m>\u001b[39m\u001b[38;5;241m=\u001b[39m\u001b[38;5;241m4\u001b[39m:\n\u001b[0;32m---> 25\u001b[0m     pca_values \u001b[38;5;241m=\u001b[39m \u001b[43mStandardScaler\u001b[49m\u001b[43m(\u001b[49m\u001b[43m)\u001b[49m\u001b[38;5;241m.\u001b[39mfit_transform(pca_values)\n\u001b[1;32m     28\u001b[0m     \u001b[38;5;66;03m# Calculate the convex hull volume\u001b[39;00m\n\u001b[1;32m     29\u001b[0m     \u001b[38;5;28;01mtry\u001b[39;00m:\n",
      "File \u001b[0;32m~/miniforge3/envs/devENV/lib/python3.12/site-packages/sklearn/preprocessing/_data.py:835\u001b[0m, in \u001b[0;36mStandardScaler.__init__\u001b[0;34m(self, copy, with_mean, with_std)\u001b[0m\n\u001b[1;32m    697\u001b[0m \u001b[38;5;250m\u001b[39m\u001b[38;5;124;03m\"\"\"Standardize features by removing the mean and scaling to unit variance.\u001b[39;00m\n\u001b[1;32m    698\u001b[0m \n\u001b[1;32m    699\u001b[0m \u001b[38;5;124;03mThe standard score of a sample `x` is calculated as:\u001b[39;00m\n\u001b[0;32m   (...)\u001b[0m\n\u001b[1;32m    826\u001b[0m \u001b[38;5;124;03m[[3. 3.]]\u001b[39;00m\n\u001b[1;32m    827\u001b[0m \u001b[38;5;124;03m\"\"\"\u001b[39;00m\n\u001b[1;32m    829\u001b[0m _parameter_constraints: \u001b[38;5;28mdict\u001b[39m \u001b[38;5;241m=\u001b[39m {\n\u001b[1;32m    830\u001b[0m     \u001b[38;5;124m\"\u001b[39m\u001b[38;5;124mcopy\u001b[39m\u001b[38;5;124m\"\u001b[39m: [\u001b[38;5;124m\"\u001b[39m\u001b[38;5;124mboolean\u001b[39m\u001b[38;5;124m\"\u001b[39m],\n\u001b[1;32m    831\u001b[0m     \u001b[38;5;124m\"\u001b[39m\u001b[38;5;124mwith_mean\u001b[39m\u001b[38;5;124m\"\u001b[39m: [\u001b[38;5;124m\"\u001b[39m\u001b[38;5;124mboolean\u001b[39m\u001b[38;5;124m\"\u001b[39m],\n\u001b[1;32m    832\u001b[0m     \u001b[38;5;124m\"\u001b[39m\u001b[38;5;124mwith_std\u001b[39m\u001b[38;5;124m\"\u001b[39m: [\u001b[38;5;124m\"\u001b[39m\u001b[38;5;124mboolean\u001b[39m\u001b[38;5;124m\"\u001b[39m],\n\u001b[1;32m    833\u001b[0m }\n\u001b[0;32m--> 835\u001b[0m \u001b[38;5;28;01mdef\u001b[39;00m \u001b[38;5;21m__init__\u001b[39m(\u001b[38;5;28mself\u001b[39m, \u001b[38;5;241m*\u001b[39m, copy\u001b[38;5;241m=\u001b[39m\u001b[38;5;28;01mTrue\u001b[39;00m, with_mean\u001b[38;5;241m=\u001b[39m\u001b[38;5;28;01mTrue\u001b[39;00m, with_std\u001b[38;5;241m=\u001b[39m\u001b[38;5;28;01mTrue\u001b[39;00m):\n\u001b[1;32m    836\u001b[0m     \u001b[38;5;28mself\u001b[39m\u001b[38;5;241m.\u001b[39mwith_mean \u001b[38;5;241m=\u001b[39m with_mean\n\u001b[1;32m    837\u001b[0m     \u001b[38;5;28mself\u001b[39m\u001b[38;5;241m.\u001b[39mwith_std \u001b[38;5;241m=\u001b[39m with_std\n",
      "\u001b[0;31mKeyboardInterrupt\u001b[0m: "
     ]
    }
   ],
   "source": [
    "from rios import applier, cuiprogress\n",
    "from scipy.spatial import ConvexHull\n",
    "import numpy as np\n",
    "from sklearn.preprocessing import StandardScaler\n",
    "\n",
    "def _getSegmentHull(info, inputs, outputs, otherargs):\n",
    "    segments = inputs.segs[0]\n",
    "    pca = inputs.PCA\n",
    "    \n",
    "    # Get unique segment IDs\n",
    "    segIDs = np.unique(segments)\n",
    "                \n",
    "    # Get the PCA values for each segment\n",
    "    for segID in segIDs:\n",
    "        if segID > 0:\n",
    "            mask = segments == segID\n",
    "            pca_values = pca[:, mask]\n",
    "            pca_values = pca_values.T\n",
    "            pca_length = pca_values.shape[0]            \n",
    "            if pca_length >=4:\n",
    "            \n",
    "                pca_values = StandardScaler().fit_transform(pca_values)\n",
    "            \n",
    "                \n",
    "                # Calculate the convex hull volume\n",
    "                try:\n",
    "                    hull = ConvexHull(pca_values)\n",
    "                    hullVol = hull.volume\n",
    "                    # print(f\"Hull Volume for Segment {segID}: {hullVol}\")\n",
    "                    \n",
    "                    # Check if there's already a value in the dictionary\n",
    "                    existing_vol, existing_length = otherargs.hullVols.get(segID, (0, 0))\n",
    "                    # print(f\"Existing Volume: {existing_vol}, Existing Length: {existing_length}\")\n",
    "                    \n",
    "                    # Compare lengths and update dictionary\n",
    "                    if pca_length > existing_length:\n",
    "                        # print(f\"Updating Segment {segID}: New Length {pca_length}, Old Length {existing_length}\")\n",
    "                        otherargs.hullVols[segID] = (hullVol, pca_length)\n",
    "                    else:\n",
    "                        otherargs.hullVols[segID] = (existing_vol, existing_length)\n",
    "                except Exception as e:\n",
    "                    print(f\"Segment ID: {segID}, PCA Length: {pca_length}\")\n",
    "                    print(f\"Error calculating hull for Segment {segID}: {e}\")\n",
    "                    # If there's an error, keep the existing value or set to 65535 if not present\n",
    "                    existing_vol, existing_length = otherargs.hullVols.get(segID, (0, 0))\n",
    "                    if existing_length == 0:\n",
    "                        otherargs.hullVols[segID] = (65535, existing_length)\n",
    "            \n",
    "\n",
    "        else:\n",
    "            existing_vol, existing_length = otherargs.hullVols.get(segID, (0, 0))\n",
    "            otherargs.hullVols[segID] = (max(existing_vol, 0), 0)\n",
    "            \n",
    "\n",
    "def getSegmentHull():    \n",
    "    # Create the RIOS file objects\n",
    "    infiles = applier.FilenameAssociations()\n",
    "    outfiles = applier.FilenameAssociations()\n",
    "\n",
    "    # Setup the IO\n",
    "    infiles.segs = \"/home/tim/rubella/scripts/SpectralBotany/data/Sentinel/Sentinel_brigalow_PCA_v2_segs_id.tif\"\n",
    "    infiles.PCA = \"/home/tim/rubella/scripts/SpectralBotany/data/Sentinel/Sentinel_brigalow_PCA_v2.tif\"\n",
    "\n",
    "    # Get the otherargs\n",
    "    otherargs = applier.OtherInputs()\n",
    "    otherargs.hullVols = {}\n",
    "\n",
    "    # Controls for the processing   \n",
    "    controls = applier.ApplierControls()\n",
    "    controls.windowxsize = 1024\n",
    "    controls.windowysize = 1024\n",
    "    controls.setStatsIgnore(0) #  nodata\n",
    "    controls.progress = cuiprogress.CUIProgressBar()\n",
    "    controls.setFootprintType(\"INTERSECTION\")\n",
    "    controls.setResampleMethod(\"near\")\n",
    "    controls.setOutputDriverName(\"GTIFF\")\n",
    "    controls.setCreationOptions([\"COMPRESS=DEFLATE\",\n",
    "                                    \"ZLEVEL=9\",\n",
    "                                    \"PREDICTOR=2\",\n",
    "                                    \"BIGTIFF=YES\",\n",
    "                                    \"TILED=YES\",\n",
    "                                    \"INTERLEAVE=BAND\",\n",
    "                                    \"NUM_THREADS=ALL_CPUS\",\n",
    "                                    \"BLOCKXSIZE=512\",\n",
    "                                    \"BLOCKYSIZE=512\"])\n",
    "    controls.setOverlap = 512\n",
    "\n",
    "    # # Set concurrency depending on system\n",
    "    # conc = applier.ConcurrencyStyle(numReadWorkers=3,\n",
    "    #                                 numComputeWorkers=2,\n",
    "    #                                 computeWorkerKind=\"CW_THREADS\",\n",
    "    #                                 )\n",
    "\n",
    "    # controls.setConcurrencyStyle(conc)\n",
    "\n",
    "    # Run the function\n",
    "    applier.apply(_getSegmentHull, infiles, outfiles, otherargs, controls=controls)\n",
    "    \n",
    "    return otherargs.hullVols\n",
    "\n",
    "HullVols = getSegmentHull()   "
   ]
  },
  {
   "cell_type": "code",
   "execution_count": 7,
   "metadata": {},
   "outputs": [
    {
     "name": "stdout",
     "output_type": "stream",
     "text": [
      "Processing PCA\n",
      "\n",
      "Computing Pyramid Layers...\n",
      "\n",
      "Computing Statistics...\n"
     ]
    }
   ],
   "source": [
    "# Export the hull volumes to a raster\n",
    "from rios import applier, cuiprogress\n",
    "\n",
    "def _writeSegmentHull(info, inputs, outputs, otherargs):\n",
    "    \n",
    "    segments = inputs.segs[0]\n",
    "    nodata = segments == 0\n",
    "    \n",
    "    outputrast = np.zeros(segments.shape, dtype=np.float32) \n",
    "       \n",
    "    # Use the dictionary to write the hull volumes to the output raster\n",
    "    for segID in otherargs.hullVols.keys():\n",
    "        mask = segments == segID\n",
    "        outputrast[mask] = otherargs.hullVols[segID][0] # Get volumes not lengths\n",
    "    \n",
    "    outputNodat = outputrast == 65535\n",
    "    #rescale to uint16\n",
    "    outputrast = (outputrast/otherargs.maxVol)*65534 \n",
    "    # Mask no data\n",
    "    outputrast[nodata] = 65535\n",
    "    outputrast[outputNodat] = 65535\n",
    "    \n",
    "    outputrast = outputrast.reshape(1, outputrast.shape[0], outputrast.shape[1])\n",
    "    \n",
    "    outputs.hullRast = outputrast.astype(np.uint16)\n",
    "\n",
    "\n",
    "\n",
    "\n",
    "# Get the no data value\n",
    "# ds = gdal.Open(\"/home/tim/dentata/Sentinel2_seasonal/cvmsre_qld_m202109202111_abma2.vrt\")\n",
    "# noData = ds.GetRasterBand(1).GetNoDataValue()\n",
    "\n",
    "def writeSegmentHull():    \n",
    "    # Create the RIOS file objects\n",
    "    infiles = applier.FilenameAssociations()\n",
    "    outfiles = applier.FilenameAssociations()\n",
    "\n",
    "    # Setup the IO\n",
    "    infiles.segs = \"/home/tim/rubella/scripts/SpectralBotany/data/Landsat/LandsatBarest_brigalow_PCA_250m_segs_id.tif\"\n",
    "\n",
    "    outfiles.hullRast = \"/home/tim/rubella/scripts/SpectralBotany/data/Landsat/LandsatBarest_brigalow_PCA_segs_hullVol16_v5.tif\"\n",
    "\n",
    "    # Get the otherargs\n",
    "    otherargs = applier.OtherInputs()\n",
    "    otherargs.hullVols = HullVols\n",
    "    values = list(HullVols.values())\n",
    "    volumes = [x[0] for x in values]\n",
    "    otherargs.minVol = min(volumes)\n",
    "    otherargs.maxVol = max(volumes)\n",
    "\n",
    "    # Controls for the processing   \n",
    "    controls = applier.ApplierControls()\n",
    "    controls.windowxsize = 512\n",
    "    controls.windowysize = 512\n",
    "    controls.setStatsIgnore(65535) #  nodata\n",
    "    controls.progress = cuiprogress.CUIProgressBar()\n",
    "    controls.setFootprintType(\"INTERSECTION\")\n",
    "    controls.setResampleMethod(\"near\")\n",
    "    controls.setOutputDriverName(\"GTIFF\")\n",
    "    controls.setCreationOptions([\"COMPRESS=DEFLATE\",\n",
    "                                    \"ZLEVEL=9\",\n",
    "                                    \"PREDICTOR=2\",\n",
    "                                    \"BIGTIFF=YES\",\n",
    "                                    \"TILED=YES\",\n",
    "                                    \"INTERLEAVE=BAND\",\n",
    "                                    \"NUM_THREADS=ALL_CPUS\",\n",
    "                                    \"BLOCKXSIZE=512\",\n",
    "                                    \"BLOCKYSIZE=512\"])\n",
    "\n",
    "    # Set concurrency depending on system\n",
    "    # conc = applier.ConcurrencyStyle(numReadWorkers=3,\n",
    "    #                                 numComputeWorkers=2,\n",
    "    #                                 computeWorkerKind=\"CW_THREADS\",\n",
    "    #                                 )\n",
    "\n",
    "    # controls.setConcurrencyStyle(conc)\n",
    "\n",
    "    # Run the function\n",
    "    print(\"Processing PCA\")\n",
    "    applier.apply(_writeSegmentHull, infiles, outfiles, otherargs, controls=controls)\n",
    "\n",
    "writeSegmentHull()"
   ]
  },
  {
   "cell_type": "code",
   "execution_count": 18,
   "metadata": {},
   "outputs": [
    {
     "name": "stdout",
     "output_type": "stream",
     "text": [
      "0.0 530.0\n"
     ]
    }
   ],
   "source": [
    "# get range of values in HullVols\n",
    "values = np.array(list(HullVols.values()))\n",
    "values = values[values != 65535]\n",
    "print(np.min(values), np.max(values))\n",
    "scaled = (values - np.min(values)) / (np.max(values) - np.min(values)) *65534\n",
    "scaled = scaled.astype(np.uint16)"
   ]
  },
  {
   "cell_type": "code",
   "execution_count": null,
   "metadata": {},
   "outputs": [],
   "source": [
    "print(np.min(scaled), np.max(scaled))"
   ]
  },
  {
   "cell_type": "code",
   "execution_count": 4,
   "metadata": {},
   "outputs": [],
   "source": [
    "# search hulvolls values for 65535\n",
    "\n",
    "for key, value in HullVols.items():\n",
    "    if value[0] == 65535:\n",
    "        print(key, value)\n"
   ]
  },
  {
   "cell_type": "markdown",
   "metadata": {},
   "source": [
    "## Function for Rao's Q"
   ]
  },
  {
   "cell_type": "code",
   "execution_count": 15,
   "metadata": {},
   "outputs": [],
   "source": [
    "nums, counts = HullVols.get(50000000, (0, 0))"
   ]
  },
  {
   "cell_type": "code",
   "execution_count": 16,
   "metadata": {},
   "outputs": [
    {
     "data": {
      "text/plain": [
       "0"
      ]
     },
     "execution_count": 16,
     "metadata": {},
     "output_type": "execute_result"
    }
   ],
   "source": [
    "counts"
   ]
  },
  {
   "cell_type": "code",
   "execution_count": null,
   "metadata": {},
   "outputs": [],
   "source": []
  }
 ],
 "metadata": {
  "kernelspec": {
   "display_name": "devENV",
   "language": "python",
   "name": "python3"
  },
  "language_info": {
   "codemirror_mode": {
    "name": "ipython",
    "version": 3
   },
   "file_extension": ".py",
   "mimetype": "text/x-python",
   "name": "python",
   "nbconvert_exporter": "python",
   "pygments_lexer": "ipython3",
   "version": "3.12.6"
  }
 },
 "nbformat": 4,
 "nbformat_minor": 2
}
